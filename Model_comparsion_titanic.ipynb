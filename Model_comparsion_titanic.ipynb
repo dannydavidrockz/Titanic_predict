{
 "cells": [
  {
   "cell_type": "code",
   "execution_count": 1,
   "metadata": {},
   "outputs": [],
   "source": [
    "from sklearn.model_selection import KFold\n",
    "from sklearn.metrics import accuracy_score,precision_score,recall_score,f1_score\n",
    "from sklearn.linear_model import LogisticRegression\n",
    "import pandas as pd\n",
    "import numpy as np"
   ]
  },
  {
   "cell_type": "code",
   "execution_count": 2,
   "metadata": {},
   "outputs": [],
   "source": [
    "df = pd.read_csv('titanic.csv')"
   ]
  },
  {
   "cell_type": "code",
   "execution_count": 3,
   "metadata": {},
   "outputs": [],
   "source": [
    "df['male'] = df['Sex'] == 'male'"
   ]
  },
  {
   "cell_type": "code",
   "execution_count": 4,
   "metadata": {},
   "outputs": [],
   "source": [
    "kf= KFold(n_splits= 5, shuffle= True)"
   ]
  },
  {
   "cell_type": "code",
   "execution_count": 5,
   "metadata": {},
   "outputs": [
    {
     "data": {
      "text/plain": [
       "Index(['Survived', 'Pclass', 'Sex', 'Age', 'Siblings/Spouses',\n",
       "       'Parents/Children', 'Fare', 'male'],\n",
       "      dtype='object')"
      ]
     },
     "execution_count": 5,
     "metadata": {},
     "output_type": "execute_result"
    }
   ],
   "source": [
    "df.keys()"
   ]
  },
  {
   "cell_type": "code",
   "execution_count": 6,
   "metadata": {},
   "outputs": [],
   "source": [
    "X1 = df[['Pclass','male','Age','Siblings/Spouses','Parents/Children','Fare']].values\n",
    "X2 = df[['Pclass','male','Age']].values\n",
    "X3 = df[['Fare','Age']].values\n",
    "y = df['Survived'].values"
   ]
  },
  {
   "cell_type": "code",
   "execution_count": 15,
   "metadata": {},
   "outputs": [
    {
     "name": "stdout",
     "output_type": "stream",
     "text": [
      "Logistics regression with all features\n",
      "accuracy: 0.7936710467847394\n",
      "precision: 0.7625519726175465\n",
      "recall_score: 0.6752503410567927\n",
      "f1_score: 0.7152424618108106\n",
      "\n",
      "Logistic regression with Pclass, Age and sex\n",
      "accuracy: 0.7902812162762649\n",
      "precision: 0.7466561941375375\n",
      "recall_score: 0.6896843807945714\n",
      "f1_score: 0.7168557726721276\n",
      "\n",
      "Logistic regression with fare & age\n",
      "accuracy: 0.6584396622865486\n",
      "precision: 0.6638013312852021\n",
      "recall_score: 0.24883235485975214\n",
      "f1_score: 0.35642981637267457\n"
     ]
    }
   ],
   "source": [
    "def score_model(X,y,kf):\n",
    "    accuracy_scores = []\n",
    "    precision_scores=[]\n",
    "    recall_scores=[]\n",
    "    f1_scores =[]\n",
    "    for train_index,test_index in kf.split(X):\n",
    "        X_train,X_test = X[train_index],X[test_index]\n",
    "        y_train,y_test = y[train_index],y[test_index]\n",
    "        model = LogisticRegression()\n",
    "        model.fit(X_train,y_train)\n",
    "        y_pred = model.predict(X_test)\n",
    "        accuracy_scores.append(accuracy_score(y_test,y_pred))\n",
    "        precision_scores.append(precision_score(y_test,y_pred))\n",
    "        recall_scores.append(recall_score(y_test,y_pred))\n",
    "        f1_scores.append(f1_score(y_test,y_pred))\n",
    "    print('accuracy:', np.mean(accuracy_scores))\n",
    "    print('precision:',np.mean(precision_scores))\n",
    "    print('recall_score:',np.mean(recall_scores))\n",
    "    print('f1_score:',np.mean(f1_scores))\n",
    "       \n",
    "print('Logistics regression with all features')\n",
    "score_model(X1,y,kf)\n",
    "print()\n",
    "print('Logistic regression with Pclass, Age and sex')\n",
    "score_model(X2,y,kf)\n",
    "print()\n",
    "print('Logistic regression with fare & age')\n",
    "score_model(X3,y,kf)\n"
   ]
  },
  {
   "cell_type": "code",
   "execution_count": null,
   "metadata": {},
   "outputs": [],
   "source": []
  }
 ],
 "metadata": {
  "kernelspec": {
   "display_name": "Python 3",
   "language": "python",
   "name": "python3"
  },
  "language_info": {
   "codemirror_mode": {
    "name": "ipython",
    "version": 3
   },
   "file_extension": ".py",
   "mimetype": "text/x-python",
   "name": "python",
   "nbconvert_exporter": "python",
   "pygments_lexer": "ipython3",
   "version": "3.7.0"
  }
 },
 "nbformat": 4,
 "nbformat_minor": 2
}
