{
 "cells": [
  {
   "cell_type": "code",
   "execution_count": 1,
   "metadata": {},
   "outputs": [
    {
     "data": {
      "text/plain": [
       "Index(['Survived', 'Pclass', 'Sex', 'Age', 'Siblings/Spouses',\n",
       "       'Parents/Children', 'Fare'],\n",
       "      dtype='object')"
      ]
     },
     "execution_count": 1,
     "metadata": {},
     "output_type": "execute_result"
    }
   ],
   "source": [
    "import pandas as pd\n",
    "df = pd.read_csv('titanic.csv')\n",
    "df.keys()"
   ]
  },
  {
   "cell_type": "code",
   "execution_count": 2,
   "metadata": {},
   "outputs": [
    {
     "name": "stdout",
     "output_type": "stream",
     "text": [
      "     Survived  Pclass     Sex   Age  Siblings/Spouses  Parents/Children  \\\n",
      "0           0       3    male  22.0                 1                 0   \n",
      "1           1       1  female  38.0                 1                 0   \n",
      "2           1       3  female  26.0                 0                 0   \n",
      "3           1       1  female  35.0                 1                 0   \n",
      "4           0       3    male  35.0                 0                 0   \n",
      "5           0       3    male  27.0                 0                 0   \n",
      "6           0       1    male  54.0                 0                 0   \n",
      "7           0       3    male   2.0                 3                 1   \n",
      "8           1       3  female  27.0                 0                 2   \n",
      "9           1       2  female  14.0                 1                 0   \n",
      "10          1       3  female   4.0                 1                 1   \n",
      "11          1       1  female  58.0                 0                 0   \n",
      "12          0       3    male  20.0                 0                 0   \n",
      "13          0       3    male  39.0                 1                 5   \n",
      "14          0       3  female  14.0                 0                 0   \n",
      "15          1       2  female  55.0                 0                 0   \n",
      "16          0       3    male   2.0                 4                 1   \n",
      "17          1       2    male  23.0                 0                 0   \n",
      "18          0       3  female  31.0                 1                 0   \n",
      "19          1       3  female  22.0                 0                 0   \n",
      "20          0       2    male  35.0                 0                 0   \n",
      "21          1       2    male  34.0                 0                 0   \n",
      "22          1       3  female  15.0                 0                 0   \n",
      "23          1       1    male  28.0                 0                 0   \n",
      "24          0       3  female   8.0                 3                 1   \n",
      "25          1       3  female  38.0                 1                 5   \n",
      "26          0       3    male  26.0                 0                 0   \n",
      "27          0       1    male  19.0                 3                 2   \n",
      "28          1       3  female  24.0                 0                 0   \n",
      "29          0       3    male  23.0                 0                 0   \n",
      "..        ...     ...     ...   ...               ...               ...   \n",
      "857         0       2    male  21.0                 1                 0   \n",
      "858         1       1  female  48.0                 0                 0   \n",
      "859         0       3  female  14.0                 8                 2   \n",
      "860         0       2    male  24.0                 0                 0   \n",
      "861         1       2  female  42.0                 0                 0   \n",
      "862         1       2  female  27.0                 1                 0   \n",
      "863         0       1    male  31.0                 0                 0   \n",
      "864         0       3    male  23.0                 0                 0   \n",
      "865         1       3    male   4.0                 1                 1   \n",
      "866         0       3    male  26.0                 0                 0   \n",
      "867         1       1  female  47.0                 1                 1   \n",
      "868         0       1    male  33.0                 0                 0   \n",
      "869         0       3    male  47.0                 0                 0   \n",
      "870         1       2  female  28.0                 1                 0   \n",
      "871         1       3  female  15.0                 0                 0   \n",
      "872         0       3    male  20.0                 0                 0   \n",
      "873         0       3    male  19.0                 0                 0   \n",
      "874         0       3    male  23.0                 0                 0   \n",
      "875         1       1  female  56.0                 0                 1   \n",
      "876         1       2  female  25.0                 0                 1   \n",
      "877         0       3    male  33.0                 0                 0   \n",
      "878         0       3  female  22.0                 0                 0   \n",
      "879         0       2    male  28.0                 0                 0   \n",
      "880         0       3    male  25.0                 0                 0   \n",
      "881         0       3  female  39.0                 0                 5   \n",
      "882         0       2    male  27.0                 0                 0   \n",
      "883         1       1  female  19.0                 0                 0   \n",
      "884         0       3  female   7.0                 1                 2   \n",
      "885         1       1    male  26.0                 0                 0   \n",
      "886         0       3    male  32.0                 0                 0   \n",
      "\n",
      "         Fare  \n",
      "0      7.2500  \n",
      "1     71.2833  \n",
      "2      7.9250  \n",
      "3     53.1000  \n",
      "4      8.0500  \n",
      "5      8.4583  \n",
      "6     51.8625  \n",
      "7     21.0750  \n",
      "8     11.1333  \n",
      "9     30.0708  \n",
      "10    16.7000  \n",
      "11    26.5500  \n",
      "12     8.0500  \n",
      "13    31.2750  \n",
      "14     7.8542  \n",
      "15    16.0000  \n",
      "16    29.1250  \n",
      "17    13.0000  \n",
      "18    18.0000  \n",
      "19     7.2250  \n",
      "20    26.0000  \n",
      "21    13.0000  \n",
      "22     8.0292  \n",
      "23    35.5000  \n",
      "24    21.0750  \n",
      "25    31.3875  \n",
      "26     7.2250  \n",
      "27   263.0000  \n",
      "28     7.8792  \n",
      "29     7.8958  \n",
      "..        ...  \n",
      "857   11.5000  \n",
      "858   25.9292  \n",
      "859   69.5500  \n",
      "860   13.0000  \n",
      "861   13.0000  \n",
      "862   13.8583  \n",
      "863   50.4958  \n",
      "864    9.5000  \n",
      "865   11.1333  \n",
      "866    7.8958  \n",
      "867   52.5542  \n",
      "868    5.0000  \n",
      "869    9.0000  \n",
      "870   24.0000  \n",
      "871    7.2250  \n",
      "872    9.8458  \n",
      "873    7.8958  \n",
      "874    7.8958  \n",
      "875   83.1583  \n",
      "876   26.0000  \n",
      "877    7.8958  \n",
      "878   10.5167  \n",
      "879   10.5000  \n",
      "880    7.0500  \n",
      "881   29.1250  \n",
      "882   13.0000  \n",
      "883   30.0000  \n",
      "884   23.4500  \n",
      "885   30.0000  \n",
      "886    7.7500  \n",
      "\n",
      "[887 rows x 7 columns]\n"
     ]
    }
   ],
   "source": [
    "print(df)"
   ]
  },
  {
   "cell_type": "code",
   "execution_count": 3,
   "metadata": {},
   "outputs": [],
   "source": [
    "df['Male'] = df['Sex'] == 'male'"
   ]
  },
  {
   "cell_type": "code",
   "execution_count": 6,
   "metadata": {},
   "outputs": [],
   "source": [
    "X = df[['Pclass','Age','Siblings/Spouses','Parents/Children','Fare','Male']].values"
   ]
  },
  {
   "cell_type": "code",
   "execution_count": 7,
   "metadata": {},
   "outputs": [],
   "source": [
    "y= df['Survived'].values"
   ]
  },
  {
   "cell_type": "code",
   "execution_count": 9,
   "metadata": {},
   "outputs": [],
   "source": [
    "from sklearn.linear_model import LogisticRegression\n",
    "model = LogisticRegression()"
   ]
  },
  {
   "cell_type": "code",
   "execution_count": 12,
   "metadata": {},
   "outputs": [
    {
     "data": {
      "text/plain": [
       "LogisticRegression(C=1.0, class_weight=None, dual=False, fit_intercept=True,\n",
       "          intercept_scaling=1, max_iter=100, multi_class='ovr', n_jobs=1,\n",
       "          penalty='l2', random_state=None, solver='liblinear', tol=0.0001,\n",
       "          verbose=0, warm_start=False)"
      ]
     },
     "execution_count": 12,
     "metadata": {},
     "output_type": "execute_result"
    }
   ],
   "source": [
    "model.fit(X,y)"
   ]
  },
  {
   "cell_type": "code",
   "execution_count": 14,
   "metadata": {},
   "outputs": [],
   "source": [
    "y_pred = model.predict(X)"
   ]
  },
  {
   "cell_type": "code",
   "execution_count": 15,
   "metadata": {},
   "outputs": [],
   "source": [
    "from sklearn.metrics import accuracy_score,precision_score,recall_score,f1_score"
   ]
  },
  {
   "cell_type": "code",
   "execution_count": 18,
   "metadata": {},
   "outputs": [
    {
     "name": "stdout",
     "output_type": "stream",
     "text": [
      "Accuracy: 0.8038331454340474\n",
      "Precision: 0.7818791946308725\n",
      "recall: 0.6812865497076024\n",
      "f1 score: 0.728125\n"
     ]
    }
   ],
   "source": [
    "print('Accuracy:', accuracy_score(y,y_pred))\n",
    "print('Precision:',precision_score(y,y_pred))\n",
    "print('recall:',recall_score(y,y_pred))\n",
    "print('f1 score:', f1_score(y,y_pred))"
   ]
  },
  {
   "cell_type": "code",
   "execution_count": 19,
   "metadata": {},
   "outputs": [
    {
     "name": "stdout",
     "output_type": "stream",
     "text": [
      "[[480  65]\n",
      " [109 233]]\n"
     ]
    }
   ],
   "source": [
    "from sklearn.metrics import confusion_matrix\n",
    "print(confusion_matrix(y,y_pred))"
   ]
  },
  {
   "cell_type": "code",
   "execution_count": null,
   "metadata": {},
   "outputs": [],
   "source": []
  }
 ],
 "metadata": {
  "kernelspec": {
   "display_name": "Python 3",
   "language": "python",
   "name": "python3"
  },
  "language_info": {
   "codemirror_mode": {
    "name": "ipython",
    "version": 3
   },
   "file_extension": ".py",
   "mimetype": "text/x-python",
   "name": "python",
   "nbconvert_exporter": "python",
   "pygments_lexer": "ipython3",
   "version": "3.7.0"
  }
 },
 "nbformat": 4,
 "nbformat_minor": 2
}
