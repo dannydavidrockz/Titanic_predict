{
 "cells": [
  {
   "cell_type": "code",
   "execution_count": 24,
   "metadata": {},
   "outputs": [
    {
     "data": {
      "text/plain": [
       "(887, 7)"
      ]
     },
     "execution_count": 24,
     "metadata": {},
     "output_type": "execute_result"
    }
   ],
   "source": [
    "import pandas as pd\n",
    "from sklearn.linear_model import LogisticRegression\n",
    "from sklearn.model_selection import train_test_split\n",
    "model=LogisticRegression()\n",
    "df = pd.read_csv('titanic.csv')\n",
    "df.shape"
   ]
  },
  {
   "cell_type": "code",
   "execution_count": 25,
   "metadata": {},
   "outputs": [
    {
     "data": {
      "text/plain": [
       "Index(['Survived', 'Pclass', 'Sex', 'Age', 'Siblings/Spouses',\n",
       "       'Parents/Children', 'Fare'],\n",
       "      dtype='object')"
      ]
     },
     "execution_count": 25,
     "metadata": {},
     "output_type": "execute_result"
    }
   ],
   "source": [
    "df.keys()"
   ]
  },
  {
   "cell_type": "code",
   "execution_count": 26,
   "metadata": {},
   "outputs": [],
   "source": [
    "df['Male'] = df['Sex'] == 'male'"
   ]
  },
  {
   "cell_type": "code",
   "execution_count": 27,
   "metadata": {},
   "outputs": [
    {
     "name": "stdout",
     "output_type": "stream",
     "text": [
      "     Survived  Pclass     Sex   Age  Siblings/Spouses  Parents/Children  \\\n",
      "0           0       3    male  22.0                 1                 0   \n",
      "1           1       1  female  38.0                 1                 0   \n",
      "2           1       3  female  26.0                 0                 0   \n",
      "3           1       1  female  35.0                 1                 0   \n",
      "4           0       3    male  35.0                 0                 0   \n",
      "5           0       3    male  27.0                 0                 0   \n",
      "6           0       1    male  54.0                 0                 0   \n",
      "7           0       3    male   2.0                 3                 1   \n",
      "8           1       3  female  27.0                 0                 2   \n",
      "9           1       2  female  14.0                 1                 0   \n",
      "10          1       3  female   4.0                 1                 1   \n",
      "11          1       1  female  58.0                 0                 0   \n",
      "12          0       3    male  20.0                 0                 0   \n",
      "13          0       3    male  39.0                 1                 5   \n",
      "14          0       3  female  14.0                 0                 0   \n",
      "15          1       2  female  55.0                 0                 0   \n",
      "16          0       3    male   2.0                 4                 1   \n",
      "17          1       2    male  23.0                 0                 0   \n",
      "18          0       3  female  31.0                 1                 0   \n",
      "19          1       3  female  22.0                 0                 0   \n",
      "20          0       2    male  35.0                 0                 0   \n",
      "21          1       2    male  34.0                 0                 0   \n",
      "22          1       3  female  15.0                 0                 0   \n",
      "23          1       1    male  28.0                 0                 0   \n",
      "24          0       3  female   8.0                 3                 1   \n",
      "25          1       3  female  38.0                 1                 5   \n",
      "26          0       3    male  26.0                 0                 0   \n",
      "27          0       1    male  19.0                 3                 2   \n",
      "28          1       3  female  24.0                 0                 0   \n",
      "29          0       3    male  23.0                 0                 0   \n",
      "..        ...     ...     ...   ...               ...               ...   \n",
      "857         0       2    male  21.0                 1                 0   \n",
      "858         1       1  female  48.0                 0                 0   \n",
      "859         0       3  female  14.0                 8                 2   \n",
      "860         0       2    male  24.0                 0                 0   \n",
      "861         1       2  female  42.0                 0                 0   \n",
      "862         1       2  female  27.0                 1                 0   \n",
      "863         0       1    male  31.0                 0                 0   \n",
      "864         0       3    male  23.0                 0                 0   \n",
      "865         1       3    male   4.0                 1                 1   \n",
      "866         0       3    male  26.0                 0                 0   \n",
      "867         1       1  female  47.0                 1                 1   \n",
      "868         0       1    male  33.0                 0                 0   \n",
      "869         0       3    male  47.0                 0                 0   \n",
      "870         1       2  female  28.0                 1                 0   \n",
      "871         1       3  female  15.0                 0                 0   \n",
      "872         0       3    male  20.0                 0                 0   \n",
      "873         0       3    male  19.0                 0                 0   \n",
      "874         0       3    male  23.0                 0                 0   \n",
      "875         1       1  female  56.0                 0                 1   \n",
      "876         1       2  female  25.0                 0                 1   \n",
      "877         0       3    male  33.0                 0                 0   \n",
      "878         0       3  female  22.0                 0                 0   \n",
      "879         0       2    male  28.0                 0                 0   \n",
      "880         0       3    male  25.0                 0                 0   \n",
      "881         0       3  female  39.0                 0                 5   \n",
      "882         0       2    male  27.0                 0                 0   \n",
      "883         1       1  female  19.0                 0                 0   \n",
      "884         0       3  female   7.0                 1                 2   \n",
      "885         1       1    male  26.0                 0                 0   \n",
      "886         0       3    male  32.0                 0                 0   \n",
      "\n",
      "         Fare   Male  \n",
      "0      7.2500   True  \n",
      "1     71.2833  False  \n",
      "2      7.9250  False  \n",
      "3     53.1000  False  \n",
      "4      8.0500   True  \n",
      "5      8.4583   True  \n",
      "6     51.8625   True  \n",
      "7     21.0750   True  \n",
      "8     11.1333  False  \n",
      "9     30.0708  False  \n",
      "10    16.7000  False  \n",
      "11    26.5500  False  \n",
      "12     8.0500   True  \n",
      "13    31.2750   True  \n",
      "14     7.8542  False  \n",
      "15    16.0000  False  \n",
      "16    29.1250   True  \n",
      "17    13.0000   True  \n",
      "18    18.0000  False  \n",
      "19     7.2250  False  \n",
      "20    26.0000   True  \n",
      "21    13.0000   True  \n",
      "22     8.0292  False  \n",
      "23    35.5000   True  \n",
      "24    21.0750  False  \n",
      "25    31.3875  False  \n",
      "26     7.2250   True  \n",
      "27   263.0000   True  \n",
      "28     7.8792  False  \n",
      "29     7.8958   True  \n",
      "..        ...    ...  \n",
      "857   11.5000   True  \n",
      "858   25.9292  False  \n",
      "859   69.5500  False  \n",
      "860   13.0000   True  \n",
      "861   13.0000  False  \n",
      "862   13.8583  False  \n",
      "863   50.4958   True  \n",
      "864    9.5000   True  \n",
      "865   11.1333   True  \n",
      "866    7.8958   True  \n",
      "867   52.5542  False  \n",
      "868    5.0000   True  \n",
      "869    9.0000   True  \n",
      "870   24.0000  False  \n",
      "871    7.2250  False  \n",
      "872    9.8458   True  \n",
      "873    7.8958   True  \n",
      "874    7.8958   True  \n",
      "875   83.1583  False  \n",
      "876   26.0000  False  \n",
      "877    7.8958   True  \n",
      "878   10.5167  False  \n",
      "879   10.5000   True  \n",
      "880    7.0500   True  \n",
      "881   29.1250  False  \n",
      "882   13.0000   True  \n",
      "883   30.0000  False  \n",
      "884   23.4500  False  \n",
      "885   30.0000   True  \n",
      "886    7.7500   True  \n",
      "\n",
      "[887 rows x 8 columns]\n"
     ]
    }
   ],
   "source": [
    "print(df)"
   ]
  },
  {
   "cell_type": "code",
   "execution_count": 28,
   "metadata": {},
   "outputs": [],
   "source": [
    "X = df[['Pclass','Male', 'Age','Siblings/Spouses','Parents/Children','Fare']].values"
   ]
  },
  {
   "cell_type": "code",
   "execution_count": 29,
   "metadata": {},
   "outputs": [],
   "source": [
    "y = df['Survived']"
   ]
  },
  {
   "cell_type": "code",
   "execution_count": 30,
   "metadata": {},
   "outputs": [
    {
     "data": {
      "text/plain": [
       "LogisticRegression(C=1.0, class_weight=None, dual=False, fit_intercept=True,\n",
       "          intercept_scaling=1, max_iter=100, multi_class='ovr', n_jobs=1,\n",
       "          penalty='l2', random_state=None, solver='liblinear', tol=0.0001,\n",
       "          verbose=0, warm_start=False)"
      ]
     },
     "execution_count": 30,
     "metadata": {},
     "output_type": "execute_result"
    }
   ],
   "source": [
    "model.fit(X,y)"
   ]
  },
  {
   "cell_type": "code",
   "execution_count": 31,
   "metadata": {},
   "outputs": [],
   "source": [
    "X_train,X_test,y_train,y_test = train_test_split(X,y)"
   ]
  },
  {
   "cell_type": "code",
   "execution_count": 32,
   "metadata": {},
   "outputs": [
    {
     "name": "stdout",
     "output_type": "stream",
     "text": [
      "whole dataset (887, 6) (887,)\n",
      "training set (665, 6) (665,)\n",
      "test set (222, 6) (222,)\n"
     ]
    }
   ],
   "source": [
    "print('whole dataset',X.shape,y.shape)\n",
    "print('training set', X_train.shape, y_train.shape)\n",
    "print('test set', X_test.shape,y_test.shape)"
   ]
  },
  {
   "cell_type": "code",
   "execution_count": 33,
   "metadata": {},
   "outputs": [
    {
     "data": {
      "text/plain": [
       "LogisticRegression(C=1.0, class_weight=None, dual=False, fit_intercept=True,\n",
       "          intercept_scaling=1, max_iter=100, multi_class='ovr', n_jobs=1,\n",
       "          penalty='l2', random_state=None, solver='liblinear', tol=0.0001,\n",
       "          verbose=0, warm_start=False)"
      ]
     },
     "execution_count": 33,
     "metadata": {},
     "output_type": "execute_result"
    }
   ],
   "source": [
    "model.fit(X_train,y_train)"
   ]
  },
  {
   "cell_type": "code",
   "execution_count": 35,
   "metadata": {},
   "outputs": [
    {
     "name": "stdout",
     "output_type": "stream",
     "text": [
      "0.8063063063063063\n"
     ]
    }
   ],
   "source": [
    "print(model.score(X_test, y_test))"
   ]
  },
  {
   "cell_type": "code",
   "execution_count": null,
   "metadata": {},
   "outputs": [],
   "source": []
  }
 ],
 "metadata": {
  "kernelspec": {
   "display_name": "Python 3",
   "language": "python",
   "name": "python3"
  },
  "language_info": {
   "codemirror_mode": {
    "name": "ipython",
    "version": 3
   },
   "file_extension": ".py",
   "mimetype": "text/x-python",
   "name": "python",
   "nbconvert_exporter": "python",
   "pygments_lexer": "ipython3",
   "version": "3.7.0"
  }
 },
 "nbformat": 4,
 "nbformat_minor": 2
}
